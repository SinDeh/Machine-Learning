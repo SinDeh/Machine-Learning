{
 "cells": [
  {
   "cell_type": "markdown",
   "metadata": {},
   "source": [
    "# This file has 4 section:\n",
    "- Multiple Linear Regression with use address dummy values in x\n",
    "- Multiple Linear Regression without use address dummy values in x\n",
    "- Polynomial Regression\n",
    "- Multiple Linear Regression with use **LableEncoder()** in address"
   ]
  },
  {
   "cell_type": "markdown",
   "metadata": {},
   "source": [
    "# 1- Multiple_Linear_Regression\n",
    "## With Address Category"
   ]
  },
  {
   "cell_type": "markdown",
   "metadata": {},
   "source": [
    "### Importing Needed Library"
   ]
  },
  {
   "cell_type": "code",
   "execution_count": 65,
   "metadata": {},
   "outputs": [],
   "source": [
    "import pandas as pd\n",
    "import numpy as np\n",
    "import csv\n",
    "import matplotlib.pyplot as plt\n",
    "from sklearn.preprocessing import PolynomialFeatures\n",
    "from sklearn.preprocessing import LabelEncoder\n",
    "from sklearn import linear_model\n",
    "from sklearn.metrics import r2_score"
   ]
  },
  {
   "cell_type": "markdown",
   "metadata": {},
   "source": [
    "### Reading the data in"
   ]
  },
  {
   "cell_type": "code",
   "execution_count": 66,
   "metadata": {},
   "outputs": [
    {
     "data": {
      "text/html": [
       "<div>\n",
       "<style scoped>\n",
       "    .dataframe tbody tr th:only-of-type {\n",
       "        vertical-align: middle;\n",
       "    }\n",
       "\n",
       "    .dataframe tbody tr th {\n",
       "        vertical-align: top;\n",
       "    }\n",
       "\n",
       "    .dataframe thead th {\n",
       "        text-align: right;\n",
       "    }\n",
       "</style>\n",
       "<table border=\"1\" class=\"dataframe\">\n",
       "  <thead>\n",
       "    <tr style=\"text-align: right;\">\n",
       "      <th></th>\n",
       "      <th>Area</th>\n",
       "      <th>Room</th>\n",
       "      <th>Parking</th>\n",
       "      <th>Warehouse</th>\n",
       "      <th>Elevator</th>\n",
       "      <th>Address</th>\n",
       "      <th>Price</th>\n",
       "      <th>Price(USD)</th>\n",
       "    </tr>\n",
       "  </thead>\n",
       "  <tbody>\n",
       "    <tr>\n",
       "      <th>0</th>\n",
       "      <td>63</td>\n",
       "      <td>1</td>\n",
       "      <td>True</td>\n",
       "      <td>True</td>\n",
       "      <td>True</td>\n",
       "      <td>Shahran</td>\n",
       "      <td>1.850000e+09</td>\n",
       "      <td>61666.67</td>\n",
       "    </tr>\n",
       "    <tr>\n",
       "      <th>1</th>\n",
       "      <td>60</td>\n",
       "      <td>1</td>\n",
       "      <td>True</td>\n",
       "      <td>True</td>\n",
       "      <td>True</td>\n",
       "      <td>Shahran</td>\n",
       "      <td>1.850000e+09</td>\n",
       "      <td>61666.67</td>\n",
       "    </tr>\n",
       "    <tr>\n",
       "      <th>2</th>\n",
       "      <td>79</td>\n",
       "      <td>2</td>\n",
       "      <td>True</td>\n",
       "      <td>True</td>\n",
       "      <td>True</td>\n",
       "      <td>Pardis</td>\n",
       "      <td>5.500000e+08</td>\n",
       "      <td>18333.33</td>\n",
       "    </tr>\n",
       "    <tr>\n",
       "      <th>3</th>\n",
       "      <td>95</td>\n",
       "      <td>2</td>\n",
       "      <td>True</td>\n",
       "      <td>True</td>\n",
       "      <td>True</td>\n",
       "      <td>Shahrake Qods</td>\n",
       "      <td>9.025000e+08</td>\n",
       "      <td>30083.33</td>\n",
       "    </tr>\n",
       "    <tr>\n",
       "      <th>4</th>\n",
       "      <td>123</td>\n",
       "      <td>2</td>\n",
       "      <td>True</td>\n",
       "      <td>True</td>\n",
       "      <td>True</td>\n",
       "      <td>Shahrake Gharb</td>\n",
       "      <td>7.000000e+09</td>\n",
       "      <td>233333.33</td>\n",
       "    </tr>\n",
       "  </tbody>\n",
       "</table>\n",
       "</div>"
      ],
      "text/plain": [
       "  Area  Room  Parking  Warehouse  Elevator         Address         Price  \\\n",
       "0   63     1     True       True      True         Shahran  1.850000e+09   \n",
       "1   60     1     True       True      True         Shahran  1.850000e+09   \n",
       "2   79     2     True       True      True          Pardis  5.500000e+08   \n",
       "3   95     2     True       True      True   Shahrake Qods  9.025000e+08   \n",
       "4  123     2     True       True      True  Shahrake Gharb  7.000000e+09   \n",
       "\n",
       "   Price(USD)  \n",
       "0    61666.67  \n",
       "1    61666.67  \n",
       "2    18333.33  \n",
       "3    30083.33  \n",
       "4   233333.33  "
      ]
     },
     "execution_count": 66,
     "metadata": {},
     "output_type": "execute_result"
    }
   ],
   "source": [
    "df = pd.read_csv('housePrice.csv')\n",
    "df.head()"
   ]
  },
  {
   "cell_type": "markdown",
   "metadata": {},
   "source": [
    "### Delete NaN values"
   ]
  },
  {
   "cell_type": "code",
   "execution_count": 67,
   "metadata": {},
   "outputs": [],
   "source": [
    "df = df.dropna()"
   ]
  },
  {
   "cell_type": "markdown",
   "metadata": {},
   "source": [
    "### Check exist NaN "
   ]
  },
  {
   "cell_type": "code",
   "execution_count": 68,
   "metadata": {},
   "outputs": [
    {
     "data": {
      "text/plain": [
       "Area          0\n",
       "Room          0\n",
       "Parking       0\n",
       "Warehouse     0\n",
       "Elevator      0\n",
       "Address       0\n",
       "Price         0\n",
       "Price(USD)    0\n",
       "dtype: int64"
      ]
     },
     "execution_count": 68,
     "metadata": {},
     "output_type": "execute_result"
    }
   ],
   "source": [
    "df.isnull().sum()"
   ]
  },
  {
   "cell_type": "markdown",
   "metadata": {},
   "source": [
    "### Convert Area from Object to int and restrict data"
   ]
  },
  {
   "cell_type": "code",
   "execution_count": 69,
   "metadata": {},
   "outputs": [],
   "source": [
    "df['Area'] = df['Area'].str.replace(',', '')\n",
    "df['Area'] = np.int64(df['Area'])\n",
    "df = df[df['Area'] < 1000]\n"
   ]
  },
  {
   "cell_type": "markdown",
   "metadata": {},
   "source": [
    "### Convert Parking, Warehouse, Elevator from bool to int"
   ]
  },
  {
   "cell_type": "code",
   "execution_count": 70,
   "metadata": {},
   "outputs": [],
   "source": [
    "df['Parking'] = df['Parking'].astype(int)\n",
    "df['Warehouse'] = df['Warehouse'].astype(int)\n",
    "df['Elevator'] = df['Elevator'].astype(int)\n"
   ]
  },
  {
   "cell_type": "markdown",
   "metadata": {},
   "source": [
    "### Convert Address from Object to unit8 (0 or 1 matrix)"
   ]
  },
  {
   "cell_type": "code",
   "execution_count": 71,
   "metadata": {},
   "outputs": [],
   "source": [
    "Address_dummy = pd.get_dummies(df['Address'])\n",
    "df = pd.concat([df, Address_dummy], axis=1).drop(['Address', 'Price'], axis=1)"
   ]
  },
  {
   "cell_type": "markdown",
   "metadata": {},
   "source": [
    "### take a look at the dataset"
   ]
  },
  {
   "cell_type": "code",
   "execution_count": 72,
   "metadata": {},
   "outputs": [
    {
     "data": {
      "text/html": [
       "<div>\n",
       "<style scoped>\n",
       "    .dataframe tbody tr th:only-of-type {\n",
       "        vertical-align: middle;\n",
       "    }\n",
       "\n",
       "    .dataframe tbody tr th {\n",
       "        vertical-align: top;\n",
       "    }\n",
       "\n",
       "    .dataframe thead th {\n",
       "        text-align: right;\n",
       "    }\n",
       "</style>\n",
       "<table border=\"1\" class=\"dataframe\">\n",
       "  <thead>\n",
       "    <tr style=\"text-align: right;\">\n",
       "      <th></th>\n",
       "      <th>Area</th>\n",
       "      <th>Room</th>\n",
       "      <th>Parking</th>\n",
       "      <th>Warehouse</th>\n",
       "      <th>Elevator</th>\n",
       "      <th>Price(USD)</th>\n",
       "      <th>Abazar</th>\n",
       "      <th>Abbasabad</th>\n",
       "      <th>Absard</th>\n",
       "      <th>Abuzar</th>\n",
       "      <th>...</th>\n",
       "      <th>Waterfall</th>\n",
       "      <th>West Ferdows Boulevard</th>\n",
       "      <th>West Pars</th>\n",
       "      <th>Yaftabad</th>\n",
       "      <th>Yakhchiabad</th>\n",
       "      <th>Yousef Abad</th>\n",
       "      <th>Zafar</th>\n",
       "      <th>Zaferanieh</th>\n",
       "      <th>Zargandeh</th>\n",
       "      <th>Zibadasht</th>\n",
       "    </tr>\n",
       "  </thead>\n",
       "  <tbody>\n",
       "    <tr>\n",
       "      <th>0</th>\n",
       "      <td>63</td>\n",
       "      <td>1</td>\n",
       "      <td>1</td>\n",
       "      <td>1</td>\n",
       "      <td>1</td>\n",
       "      <td>61666.67</td>\n",
       "      <td>0</td>\n",
       "      <td>0</td>\n",
       "      <td>0</td>\n",
       "      <td>0</td>\n",
       "      <td>...</td>\n",
       "      <td>0</td>\n",
       "      <td>0</td>\n",
       "      <td>0</td>\n",
       "      <td>0</td>\n",
       "      <td>0</td>\n",
       "      <td>0</td>\n",
       "      <td>0</td>\n",
       "      <td>0</td>\n",
       "      <td>0</td>\n",
       "      <td>0</td>\n",
       "    </tr>\n",
       "    <tr>\n",
       "      <th>1</th>\n",
       "      <td>60</td>\n",
       "      <td>1</td>\n",
       "      <td>1</td>\n",
       "      <td>1</td>\n",
       "      <td>1</td>\n",
       "      <td>61666.67</td>\n",
       "      <td>0</td>\n",
       "      <td>0</td>\n",
       "      <td>0</td>\n",
       "      <td>0</td>\n",
       "      <td>...</td>\n",
       "      <td>0</td>\n",
       "      <td>0</td>\n",
       "      <td>0</td>\n",
       "      <td>0</td>\n",
       "      <td>0</td>\n",
       "      <td>0</td>\n",
       "      <td>0</td>\n",
       "      <td>0</td>\n",
       "      <td>0</td>\n",
       "      <td>0</td>\n",
       "    </tr>\n",
       "    <tr>\n",
       "      <th>2</th>\n",
       "      <td>79</td>\n",
       "      <td>2</td>\n",
       "      <td>1</td>\n",
       "      <td>1</td>\n",
       "      <td>1</td>\n",
       "      <td>18333.33</td>\n",
       "      <td>0</td>\n",
       "      <td>0</td>\n",
       "      <td>0</td>\n",
       "      <td>0</td>\n",
       "      <td>...</td>\n",
       "      <td>0</td>\n",
       "      <td>0</td>\n",
       "      <td>0</td>\n",
       "      <td>0</td>\n",
       "      <td>0</td>\n",
       "      <td>0</td>\n",
       "      <td>0</td>\n",
       "      <td>0</td>\n",
       "      <td>0</td>\n",
       "      <td>0</td>\n",
       "    </tr>\n",
       "    <tr>\n",
       "      <th>3</th>\n",
       "      <td>95</td>\n",
       "      <td>2</td>\n",
       "      <td>1</td>\n",
       "      <td>1</td>\n",
       "      <td>1</td>\n",
       "      <td>30083.33</td>\n",
       "      <td>0</td>\n",
       "      <td>0</td>\n",
       "      <td>0</td>\n",
       "      <td>0</td>\n",
       "      <td>...</td>\n",
       "      <td>0</td>\n",
       "      <td>0</td>\n",
       "      <td>0</td>\n",
       "      <td>0</td>\n",
       "      <td>0</td>\n",
       "      <td>0</td>\n",
       "      <td>0</td>\n",
       "      <td>0</td>\n",
       "      <td>0</td>\n",
       "      <td>0</td>\n",
       "    </tr>\n",
       "    <tr>\n",
       "      <th>4</th>\n",
       "      <td>123</td>\n",
       "      <td>2</td>\n",
       "      <td>1</td>\n",
       "      <td>1</td>\n",
       "      <td>1</td>\n",
       "      <td>233333.33</td>\n",
       "      <td>0</td>\n",
       "      <td>0</td>\n",
       "      <td>0</td>\n",
       "      <td>0</td>\n",
       "      <td>...</td>\n",
       "      <td>0</td>\n",
       "      <td>0</td>\n",
       "      <td>0</td>\n",
       "      <td>0</td>\n",
       "      <td>0</td>\n",
       "      <td>0</td>\n",
       "      <td>0</td>\n",
       "      <td>0</td>\n",
       "      <td>0</td>\n",
       "      <td>0</td>\n",
       "    </tr>\n",
       "  </tbody>\n",
       "</table>\n",
       "<p>5 rows × 198 columns</p>\n",
       "</div>"
      ],
      "text/plain": [
       "   Area  Room  Parking  Warehouse  Elevator  Price(USD)  Abazar  Abbasabad  \\\n",
       "0    63     1        1          1         1    61666.67       0          0   \n",
       "1    60     1        1          1         1    61666.67       0          0   \n",
       "2    79     2        1          1         1    18333.33       0          0   \n",
       "3    95     2        1          1         1    30083.33       0          0   \n",
       "4   123     2        1          1         1   233333.33       0          0   \n",
       "\n",
       "   Absard  Abuzar  ...  Waterfall  West Ferdows Boulevard  West Pars  \\\n",
       "0       0       0  ...          0                       0          0   \n",
       "1       0       0  ...          0                       0          0   \n",
       "2       0       0  ...          0                       0          0   \n",
       "3       0       0  ...          0                       0          0   \n",
       "4       0       0  ...          0                       0          0   \n",
       "\n",
       "   Yaftabad  Yakhchiabad  Yousef Abad  Zafar  Zaferanieh  Zargandeh  Zibadasht  \n",
       "0         0            0            0      0           0          0          0  \n",
       "1         0            0            0      0           0          0          0  \n",
       "2         0            0            0      0           0          0          0  \n",
       "3         0            0            0      0           0          0          0  \n",
       "4         0            0            0      0           0          0          0  \n",
       "\n",
       "[5 rows x 198 columns]"
      ]
     },
     "execution_count": 72,
     "metadata": {},
     "output_type": "execute_result"
    }
   ],
   "source": [
    "df.head()"
   ]
  },
  {
   "cell_type": "markdown",
   "metadata": {},
   "source": [
    "### take a look at the dataset's type"
   ]
  },
  {
   "cell_type": "code",
   "execution_count": 73,
   "metadata": {},
   "outputs": [
    {
     "data": {
      "text/plain": [
       "Area           int64\n",
       "Room           int64\n",
       "Parking        int32\n",
       "Warehouse      int32\n",
       "Elevator       int32\n",
       "               ...  \n",
       "Yousef Abad    uint8\n",
       "Zafar          uint8\n",
       "Zaferanieh     uint8\n",
       "Zargandeh      uint8\n",
       "Zibadasht      uint8\n",
       "Length: 198, dtype: object"
      ]
     },
     "execution_count": 73,
     "metadata": {},
     "output_type": "execute_result"
    }
   ],
   "source": [
    "df.dtypes"
   ]
  },
  {
   "cell_type": "markdown",
   "metadata": {},
   "source": [
    "### plot Area values with respect to Price(USD):\n"
   ]
  },
  {
   "cell_type": "code",
   "execution_count": 74,
   "metadata": {},
   "outputs": [
    {
     "data": {
      "image/png": "[encoded data removed]",
      "text/plain": [
       "<Figure size 432x288 with 1 Axes>"
      ]
     },
     "metadata": {
      "needs_background": "light"
     },
     "output_type": "display_data"
    }
   ],
   "source": [
    "plt.scatter(df['Area'], df['Price(USD)'],  color='blue')\n",
    "plt.xlabel(\"Area\")\n",
    "plt.ylabel(\"Price(USD)\")\n",
    "plt.show()"
   ]
  },
  {
   "cell_type": "markdown",
   "metadata": {},
   "source": [
    "### Creating train and test dataset"
   ]
  },
  {
   "cell_type": "code",
   "execution_count": 75,
   "metadata": {},
   "outputs": [],
   "source": [
    "msk = np.random.rand(len(df)) < 0.8\n",
    "train = df[msk]\n",
    "test = df[~msk]"
   ]
  },
  {
   "cell_type": "markdown",
   "metadata": {},
   "source": [
    "### Train data distribution"
   ]
  },
  {
   "cell_type": "code",
   "execution_count": 76,
   "metadata": {},
   "outputs": [
    {
     "data": {
      "image/png": "[encoded data removed]",
      "text/plain": [
       "<Figure size 432x288 with 1 Axes>"
      ]
     },
     "metadata": {
      "needs_background": "light"
     },
     "output_type": "display_data"
    }
   ],
   "source": [
    "plt.scatter(train['Area'], train['Price(USD)'],  color='green')\n",
    "plt.xlabel(\"Area\")\n",
    "plt.ylabel(\"Price(USD)\")\n",
    "plt.show()"
   ]
  },
  {
   "cell_type": "markdown",
   "metadata": {},
   "source": [
    "### Multiple Regression Model"
   ]
  },
  {
   "cell_type": "code",
   "execution_count": 77,
   "metadata": {},
   "outputs": [
    {
     "name": "stdout",
     "output_type": "stream",
     "text": [
      "Coefficients:  [[ 2.42887488e+03  9.57193393e+03 -2.52446208e+04 -4.18500890e+03\n",
      "  -1.09201277e+04 -1.02538155e+14 -1.02538155e+14 -1.02538156e+14\n",
      "  -1.02538155e+14 -1.02538155e+14 -1.02538155e+14 -1.02538155e+14\n",
      "  -1.02538155e+14 -1.02538155e+14 -2.73969143e+15 -1.02538155e+14\n",
      "  -1.02538155e+14 -1.02538155e+14 -1.02538155e+14 -1.02538155e+14\n",
      "  -1.02538155e+14 -1.02538154e+14 -1.02538155e+14 -1.02538155e+14\n",
      "  -1.02538155e+14 -1.02538155e+14 -1.02538155e+14 -1.02538155e+14\n",
      "  -1.02538155e+14 -1.02538155e+14 -1.02538155e+14 -1.02538155e+14\n",
      "  -1.02538155e+14 -4.10911666e+13 -8.37648028e+13 -1.02538155e+14\n",
      "  -1.02538155e+14 -1.02538155e+14 -1.02538155e+14 -1.02538155e+14\n",
      "  -1.02538155e+14 -1.02538155e+14 -1.02538155e+14 -1.02538155e+14\n",
      "  -1.02538155e+14 -1.02538155e+14 -1.02538155e+14 -1.02538155e+14\n",
      "  -1.02538155e+14 -1.02538154e+14 -1.02538155e+14 -1.02538155e+14\n",
      "  -1.02538155e+14 -1.02538155e+14 -1.02538155e+14 -1.02538155e+14\n",
      "  -1.02538155e+14 -1.02538155e+14 -1.02538155e+14 -1.02538155e+14\n",
      "  -1.02538154e+14 -1.02538155e+14 -1.02538155e+14 -1.02538155e+14\n",
      "  -1.02538155e+14 -1.02538155e+14 -1.02538155e+14 -1.02538155e+14\n",
      "  -1.02538155e+14 -1.02538155e+14 -1.02538155e+14 -1.02538155e+14\n",
      "  -1.02538155e+14 -1.02538155e+14 -1.02538155e+14 -1.02538155e+14\n",
      "  -1.02538155e+14 -1.02538155e+14 -8.28824995e+03 -1.02538155e+14\n",
      "  -1.02538155e+14 -1.02538155e+14 -1.02538155e+14 -1.02538155e+14\n",
      "  -1.02538155e+14 -1.02538155e+14 -1.02538155e+14 -1.02538155e+14\n",
      "  -1.02538155e+14 -1.02538155e+14 -1.02538155e+14 -1.02538155e+14\n",
      "  -1.02538154e+14 -1.02538155e+14 -1.02538155e+14 -1.02538155e+14\n",
      "  -1.02538155e+14 -1.02538155e+14 -1.02538155e+14 -1.02538155e+14\n",
      "  -1.02538155e+14 -1.02538155e+14 -1.02538155e+14 -1.02538155e+14\n",
      "  -1.02538155e+14 -1.02538155e+14 -1.02538155e+14 -1.02538155e+14\n",
      "  -1.02538155e+14 -1.02538155e+14 -1.02538154e+14 -1.02538155e+14\n",
      "  -1.02538155e+14 -1.02538155e+14 -1.02538155e+14 -1.02538155e+14\n",
      "  -1.02538155e+14 -1.02538155e+14 -1.02538155e+14 -1.02538155e+14\n",
      "  -1.02538155e+14 -1.02538155e+14 -1.02538155e+14 -1.02538155e+14\n",
      "  -1.02538155e+14 -1.02538155e+14 -1.02538155e+14 -1.02538155e+14\n",
      "  -1.02538155e+14 -1.02538155e+14 -1.02538155e+14 -1.02538155e+14\n",
      "  -1.02538155e+14 -1.02538155e+14 -1.02538155e+14 -1.04432402e-05\n",
      "  -1.02538155e+14 -1.02538155e+14 -1.02538155e+14 -1.02538155e+14\n",
      "  -1.02538155e+14 -1.02538155e+14 -1.02538155e+14 -1.02538155e+14\n",
      "  -8.89792718e-05 -1.02538155e+14 -1.02538155e+14 -1.02538155e+14\n",
      "  -1.02538155e+14 -1.02538155e+14 -1.02538155e+14 -1.02538155e+14\n",
      "  -1.02538155e+14 -1.02538155e+14 -1.02538155e+14 -1.02538155e+14\n",
      "  -1.02538155e+14 -1.02538155e+14 -1.02538155e+14 -1.02538155e+14\n",
      "  -1.02538155e+14 -1.02538155e+14 -1.02538155e+14 -1.02538155e+14\n",
      "  -1.02538155e+14 -1.02538155e+14 -1.02538155e+14 -1.02538155e+14\n",
      "  -1.02538155e+14 -1.02538155e+14 -1.02538155e+14 -1.02538155e+14\n",
      "  -1.02538155e+14 -1.02538155e+14 -1.02538155e+14 -1.02538155e+14\n",
      "   9.82690835e-08 -1.02538155e+14 -1.02538155e+14 -1.02538155e+14\n",
      "  -8.15489329e-08 -1.02538155e+14 -1.02538154e+14 -1.02538156e+14\n",
      "  -1.02538154e+14 -1.02538155e+14 -1.02538155e+14 -1.02538155e+14\n",
      "  -1.02538155e+14 -1.02538155e+14 -1.02538155e+14 -1.02538155e+14\n",
      "  -1.02538155e+14 -1.02538155e+14 -1.02538154e+14 -1.02538155e+14\n",
      "  -1.02538155e+14]]\n",
      "Intercepts: [1.02538155e+14]\n"
     ]
    }
   ],
   "source": [
    "regr = linear_model.LinearRegression()\n",
    "x = np.asanyarray(train[['Area', 'Room', 'Parking', 'Warehouse', 'Elevator',\n",
    "       'Abazar', 'Abbasabad', 'Absard', 'Abuzar',\n",
    "       'Afsarieh', 'Ahang', 'Air force', 'Ajudaniye', 'Alborz Complex',\n",
    "       'Aliabad South', 'Amir Bahador', 'Amirabad', 'Amirieh', 'Andisheh',\n",
    "       'Aqdasieh', 'Araj', 'Argentina', 'Atabak', 'Azadshahr',\n",
    "       'Azarbaijan', 'Azari', 'Baghestan', 'Bahar', 'Baqershahr',\n",
    "       'Beryanak', 'Boloorsazi', 'Central Janatabad', 'Chahardangeh',\n",
    "       'Chardangeh', 'Chardivari', 'Chidz', 'Damavand', 'Darabad',\n",
    "       'Darakeh', 'Darband', 'Daryan No', 'Dehkade Olampic', 'Dezashib',\n",
    "       'Dolatabad', 'Dorous', 'East Ferdows Boulevard', 'East Pars',\n",
    "       'Ekbatan', 'Ekhtiarieh', 'Elahieh', 'Elm-o-Sanat', 'Enghelab',\n",
    "       'Eram', 'Eskandari', 'Fallah', 'Farmanieh', 'Fatemi',\n",
    "       'Feiz Garden', 'Firoozkooh', 'Firoozkooh Kuhsar', 'Gandhi',\n",
    "       'Garden of Saba', 'Gheitarieh', 'Ghiyamdasht', 'Ghoba', 'Gholhak',\n",
    "       'Gisha', 'Golestan', 'Haft Tir', 'Hakimiyeh', 'Hashemi',\n",
    "       'Hassan Abad', 'Hekmat', 'Heravi', 'Heshmatieh', 'Hor Square',\n",
    "       'Islamshahr', 'Islamshahr Elahieh', 'Javadiyeh', 'Jeyhoon',\n",
    "       'Jordan', 'Kahrizak', 'Kamranieh', 'Karimkhan', 'Karoon',\n",
    "       'Kazemabad', 'Keshavarz Boulevard', 'Khademabad Garden',\n",
    "       'Khavaran', 'Komeil', 'Koohsar', 'Kook', 'Lavasan', 'Lavizan',\n",
    "       'Mahallati', 'Mahmoudieh', 'Majidieh', 'Malard', 'Marzdaran',\n",
    "       'Mehrabad', 'Mehrabad River River', 'Mehran', 'Mirdamad',\n",
    "       'Mirza Shirazi', 'Moniriyeh', 'Narmak', 'Nasim Shahr', 'Nawab',\n",
    "       'Naziabad', 'Nezamabad', 'Niavaran', 'North Program Organization',\n",
    "       'Northern Chitgar', 'Northern Janatabad', 'Northern Suhrawardi',\n",
    "       'Northren Jamalzadeh', 'Ostad Moein', 'Ozgol', 'Pakdasht',\n",
    "       'Pakdasht KhatunAbad', 'Parand', 'Parastar', 'Pardis', 'Pasdaran',\n",
    "       'Persian Gulf Martyrs Lake', 'Pirouzi', 'Pishva', 'Punak',\n",
    "       'Qalandari', 'Qarchak', 'Qasr-od-Dasht', 'Qazvin Imamzadeh Hassan',\n",
    "       'Railway', 'Ray', 'Ray - Montazeri', 'Ray - Pilgosh', 'Razi',\n",
    "       'Republic', 'Robat Karim', 'Rudhen', 'Saadat Abad', 'SabaShahr',\n",
    "       'Sabalan', 'Sadeghieh', 'Safadasht', 'Salehabad', 'Salsabil',\n",
    "       'Sattarkhan', 'Seyed Khandan', 'Shadabad', 'Shahedshahr',\n",
    "       'Shahr-e-Ziba', 'ShahrAra', 'Shahrake Apadana', 'Shahrake Azadi',\n",
    "       'Shahrake Gharb', 'Shahrake Madaen', 'Shahrake Qods',\n",
    "       'Shahrake Quds', 'Shahrake Shahid Bagheri', 'Shahrakeh Naft',\n",
    "       'Shahran', 'Shahryar', 'Shams Abad', 'Shoosh', 'Si Metri Ji',\n",
    "       'Sohanak', 'Southern Chitgar', 'Southern Janatabad',\n",
    "       'Southern Program Organization', 'Southern Suhrawardi', 'Tajrish',\n",
    "       'Tarasht', 'Taslihat', 'Tehran Now', 'Tehransar',\n",
    "       'Telecommunication', 'Tenant', 'Thirteen November', 'Vahidieh',\n",
    "       'Vahidiyeh', 'Valiasr', 'Vanak', 'Varamin - Beheshti', 'Velenjak',\n",
    "       'Villa', 'Water Organization', 'Waterfall',\n",
    "       'West Ferdows Boulevard', 'West Pars', 'Yaftabad', 'Yakhchiabad',\n",
    "       'Yousef Abad', 'Zafar', 'Zaferanieh', 'Zargandeh', 'Zibadasht']])\n",
    "y = np.asanyarray(train[['Price(USD)']])\n",
    "regr.fit (x, y)\n",
    "\n",
    "\n",
    "print ('Coefficients: ', regr.coef_)\n",
    "print(f'Intercepts: {regr.intercept_}')"
   ]
  },
  {
   "cell_type": "markdown",
   "metadata": {},
   "source": [
    "### Prediction"
   ]
  },
  {
   "cell_type": "code",
   "execution_count": 78,
   "metadata": {},
   "outputs": [
    {
     "name": "stdout",
     "output_type": "stream",
     "text": [
      "Residual sum of squares: 9820685332599915819361632256.00\n",
      "Variance score: -169444349177228480.00\n",
      "R2-score: -169444349177228480.00\n"
     ]
    },
    {
     "name": "stderr",
     "output_type": "stream",
     "text": [
      "c:\\Users\\sinad\\AppData\\Local\\Programs\\Python\\Python310\\lib\\site-packages\\sklearn\\base.py:443: UserWarning: X has feature names, but LinearRegression was fitted without feature names\n",
      "  warnings.warn(\n"
     ]
    }
   ],
   "source": [
    "y_hat= regr.predict(test[['Area', 'Room', 'Parking', 'Warehouse', 'Elevator',\n",
    "      'Abazar', 'Abbasabad', 'Absard', 'Abuzar',\n",
    "      'Afsarieh', 'Ahang', 'Air force', 'Ajudaniye', 'Alborz Complex',\n",
    "      'Aliabad South', 'Amir Bahador', 'Amirabad', 'Amirieh', 'Andisheh',\n",
    "      'Aqdasieh', 'Araj', 'Argentina', 'Atabak', 'Azadshahr',\n",
    "      'Azarbaijan', 'Azari', 'Baghestan', 'Bahar', 'Baqershahr',\n",
    "      'Beryanak', 'Boloorsazi', 'Central Janatabad', 'Chahardangeh',\n",
    "      'Chardangeh', 'Chardivari', 'Chidz', 'Damavand', 'Darabad',\n",
    "      'Darakeh', 'Darband', 'Daryan No', 'Dehkade Olampic', 'Dezashib',\n",
    "      'Dolatabad', 'Dorous', 'East Ferdows Boulevard', 'East Pars',\n",
    "      'Ekbatan', 'Ekhtiarieh', 'Elahieh', 'Elm-o-Sanat', 'Enghelab',\n",
    "      'Eram', 'Eskandari', 'Fallah', 'Farmanieh', 'Fatemi',\n",
    "      'Feiz Garden', 'Firoozkooh', 'Firoozkooh Kuhsar', 'Gandhi',\n",
    "      'Garden of Saba', 'Gheitarieh', 'Ghiyamdasht', 'Ghoba', 'Gholhak',\n",
    "      'Gisha', 'Golestan', 'Haft Tir', 'Hakimiyeh', 'Hashemi',\n",
    "      'Hassan Abad', 'Hekmat', 'Heravi', 'Heshmatieh', 'Hor Square',\n",
    "      'Islamshahr', 'Islamshahr Elahieh', 'Javadiyeh', 'Jeyhoon',\n",
    "      'Jordan', 'Kahrizak', 'Kamranieh', 'Karimkhan', 'Karoon',\n",
    "      'Kazemabad', 'Keshavarz Boulevard', 'Khademabad Garden',\n",
    "      'Khavaran', 'Komeil', 'Koohsar', 'Kook', 'Lavasan', 'Lavizan',\n",
    "      'Mahallati', 'Mahmoudieh', 'Majidieh', 'Malard', 'Marzdaran',\n",
    "      'Mehrabad', 'Mehrabad River River', 'Mehran', 'Mirdamad',\n",
    "      'Mirza Shirazi', 'Moniriyeh', 'Narmak', 'Nasim Shahr', 'Nawab',\n",
    "      'Naziabad', 'Nezamabad', 'Niavaran', 'North Program Organization',\n",
    "      'Northern Chitgar', 'Northern Janatabad', 'Northern Suhrawardi',\n",
    "      'Northren Jamalzadeh', 'Ostad Moein', 'Ozgol', 'Pakdasht',\n",
    "      'Pakdasht KhatunAbad', 'Parand', 'Parastar', 'Pardis', 'Pasdaran',\n",
    "      'Persian Gulf Martyrs Lake', 'Pirouzi', 'Pishva', 'Punak',\n",
    "      'Qalandari', 'Qarchak', 'Qasr-od-Dasht', 'Qazvin Imamzadeh Hassan',\n",
    "      'Railway', 'Ray', 'Ray - Montazeri', 'Ray - Pilgosh', 'Razi',\n",
    "      'Republic', 'Robat Karim', 'Rudhen', 'Saadat Abad', 'SabaShahr',\n",
    "      'Sabalan', 'Sadeghieh', 'Safadasht', 'Salehabad', 'Salsabil',\n",
    "      'Sattarkhan', 'Seyed Khandan', 'Shadabad', 'Shahedshahr',\n",
    "      'Shahr-e-Ziba', 'ShahrAra', 'Shahrake Apadana', 'Shahrake Azadi',\n",
    "      'Shahrake Gharb', 'Shahrake Madaen', 'Shahrake Qods',\n",
    "      'Shahrake Quds', 'Shahrake Shahid Bagheri', 'Shahrakeh Naft',\n",
    "      'Shahran', 'Shahryar', 'Shams Abad', 'Shoosh', 'Si Metri Ji',\n",
    "      'Sohanak', 'Southern Chitgar', 'Southern Janatabad',\n",
    "      'Southern Program Organization', 'Southern Suhrawardi', 'Tajrish',\n",
    "      'Tarasht', 'Taslihat', 'Tehran Now', 'Tehransar',\n",
    "      'Telecommunication', 'Tenant', 'Thirteen November', 'Vahidieh',\n",
    "      'Vahidiyeh', 'Valiasr', 'Vanak', 'Varamin - Beheshti', 'Velenjak',\n",
    "      'Villa', 'Water Organization', 'Waterfall',\n",
    "      'West Ferdows Boulevard', 'West Pars', 'Yaftabad', 'Yakhchiabad',\n",
    "      'Yousef Abad', 'Zafar', 'Zaferanieh', 'Zargandeh', 'Zibadasht']])\n",
    "x = np.asanyarray(test[['Area', 'Room', 'Parking', 'Warehouse', 'Elevator',\n",
    "      'Abazar', 'Abbasabad', 'Absard', 'Abuzar',\n",
    "      'Afsarieh', 'Ahang', 'Air force', 'Ajudaniye', 'Alborz Complex',\n",
    "      'Aliabad South', 'Amir Bahador', 'Amirabad', 'Amirieh', 'Andisheh',\n",
    "      'Aqdasieh', 'Araj', 'Argentina', 'Atabak', 'Azadshahr',\n",
    "      'Azarbaijan', 'Azari', 'Baghestan', 'Bahar', 'Baqershahr',\n",
    "      'Beryanak', 'Boloorsazi', 'Central Janatabad', 'Chahardangeh',\n",
    "      'Chardangeh', 'Chardivari', 'Chidz', 'Damavand', 'Darabad',\n",
    "      'Darakeh', 'Darband', 'Daryan No', 'Dehkade Olampic', 'Dezashib',\n",
    "      'Dolatabad', 'Dorous', 'East Ferdows Boulevard', 'East Pars',\n",
    "      'Ekbatan', 'Ekhtiarieh', 'Elahieh', 'Elm-o-Sanat', 'Enghelab',\n",
    "      'Eram', 'Eskandari', 'Fallah', 'Farmanieh', 'Fatemi',\n",
    "      'Feiz Garden', 'Firoozkooh', 'Firoozkooh Kuhsar', 'Gandhi',\n",
    "      'Garden of Saba', 'Gheitarieh', 'Ghiyamdasht', 'Ghoba', 'Gholhak',\n",
    "      'Gisha', 'Golestan', 'Haft Tir', 'Hakimiyeh', 'Hashemi',\n",
    "      'Hassan Abad', 'Hekmat', 'Heravi', 'Heshmatieh', 'Hor Square',\n",
    "      'Islamshahr', 'Islamshahr Elahieh', 'Javadiyeh', 'Jeyhoon',\n",
    "      'Jordan', 'Kahrizak', 'Kamranieh', 'Karimkhan', 'Karoon',\n",
    "      'Kazemabad', 'Keshavarz Boulevard', 'Khademabad Garden',\n",
    "      'Khavaran', 'Komeil', 'Koohsar', 'Kook', 'Lavasan', 'Lavizan',\n",
    "      'Mahallati', 'Mahmoudieh', 'Majidieh', 'Malard', 'Marzdaran',\n",
    "      'Mehrabad', 'Mehrabad River River', 'Mehran', 'Mirdamad',\n",
    "      'Mirza Shirazi', 'Moniriyeh', 'Narmak', 'Nasim Shahr', 'Nawab',\n",
    "      'Naziabad', 'Nezamabad', 'Niavaran', 'North Program Organization',\n",
    "      'Northern Chitgar', 'Northern Janatabad', 'Northern Suhrawardi',\n",
    "      'Northren Jamalzadeh', 'Ostad Moein', 'Ozgol', 'Pakdasht',\n",
    "      'Pakdasht KhatunAbad', 'Parand', 'Parastar', 'Pardis', 'Pasdaran',\n",
    "      'Persian Gulf Martyrs Lake', 'Pirouzi', 'Pishva', 'Punak',\n",
    "      'Qalandari', 'Qarchak', 'Qasr-od-Dasht', 'Qazvin Imamzadeh Hassan',\n",
    "      'Railway', 'Ray', 'Ray - Montazeri', 'Ray - Pilgosh', 'Razi',\n",
    "      'Republic', 'Robat Karim', 'Rudhen', 'Saadat Abad', 'SabaShahr',\n",
    "      'Sabalan', 'Sadeghieh', 'Safadasht', 'Salehabad', 'Salsabil',\n",
    "      'Sattarkhan', 'Seyed Khandan', 'Shadabad', 'Shahedshahr',\n",
    "      'Shahr-e-Ziba', 'ShahrAra', 'Shahrake Apadana', 'Shahrake Azadi',\n",
    "      'Shahrake Gharb', 'Shahrake Madaen', 'Shahrake Qods',\n",
    "      'Shahrake Quds', 'Shahrake Shahid Bagheri', 'Shahrakeh Naft',\n",
    "      'Shahran', 'Shahryar', 'Shams Abad', 'Shoosh', 'Si Metri Ji',\n",
    "      'Sohanak', 'Southern Chitgar', 'Southern Janatabad',\n",
    "      'Southern Program Organization', 'Southern Suhrawardi', 'Tajrish',\n",
    "      'Tarasht', 'Taslihat', 'Tehran Now', 'Tehransar',\n",
    "      'Telecommunication', 'Tenant', 'Thirteen November', 'Vahidieh',\n",
    "      'Vahidiyeh', 'Valiasr', 'Vanak', 'Varamin - Beheshti', 'Velenjak',\n",
    "      'Villa', 'Water Organization', 'Waterfall',\n",
    "      'West Ferdows Boulevard', 'West Pars', 'Yaftabad', 'Yakhchiabad',\n",
    "      'Yousef Abad', 'Zafar', 'Zaferanieh', 'Zargandeh', 'Zibadasht']])\n",
    "y = np.asanyarray(test[['Price(USD)']])\n",
    "print(\"Residual sum of squares: %.2f\"\n",
    "      % np.mean((y_hat - y) ** 2))\n",
    "\n",
    "\n",
    "print('Variance score: %.2f' % regr.score(x, y))\n",
    "print(\"R2-score: %.2f\" % r2_score(y, y_hat))"
   ]
  },
  {
   "cell_type": "markdown",
   "metadata": {},
   "source": [
    "# 2- Multiple_Linear_Regression\n",
    "## Without Address Category"
   ]
  },
  {
   "cell_type": "code",
   "execution_count": 79,
   "metadata": {},
   "outputs": [
    {
     "name": "stdout",
     "output_type": "stream",
     "text": [
      "Coefficients:  [[ 2376.8524777  54617.92744156 -7814.44584953 34121.56572541\n",
      "  28402.91585363]]\n",
      "Intercepts: [-234907.23701821]\n"
     ]
    }
   ],
   "source": [
    "regr = linear_model.LinearRegression()\n",
    "x = np.asanyarray(train[['Area', 'Room', 'Parking', 'Warehouse', 'Elevator']])\n",
    "y = np.asanyarray(train[['Price(USD)']])\n",
    "regr.fit (x, y)\n",
    "# The coefficients\n",
    "print ('Coefficients: ', regr.coef_)\n",
    "print(f'Intercepts: {regr.intercept_}')"
   ]
  },
  {
   "cell_type": "code",
   "execution_count": 80,
   "metadata": {},
   "outputs": [
    {
     "name": "stdout",
     "output_type": "stream",
     "text": [
      "Residual sum of squares: 28257512245.06\n",
      "Variance score: 0.51\n",
      "R2-score: 0.51\n"
     ]
    },
    {
     "name": "stderr",
     "output_type": "stream",
     "text": [
      "c:\\Users\\sinad\\AppData\\Local\\Programs\\Python\\Python310\\lib\\site-packages\\sklearn\\base.py:443: UserWarning: X has feature names, but LinearRegression was fitted without feature names\n",
      "  warnings.warn(\n"
     ]
    }
   ],
   "source": [
    "y_hat= regr.predict(test[['Area', 'Room', 'Parking', 'Warehouse', 'Elevator']])\n",
    "x = np.asanyarray(test[['Area', 'Room', 'Parking', 'Warehouse', 'Elevator']])\n",
    "y = np.asanyarray(test[['Price(USD)']])\n",
    "print(\"Residual sum of squares: %.2f\"\n",
    "      % np.mean((y_hat - y) ** 2))\n",
    "\n",
    "# Explained variance score: 1 is perfect prediction\n",
    "print('Variance score: %.2f' % regr.score(x, y))\n",
    "print(\"R2-score: %.2f\" % r2_score(y, y_hat))"
   ]
  },
  {
   "cell_type": "markdown",
   "metadata": {},
   "source": [
    "# 3- Polynomial Regression"
   ]
  },
  {
   "cell_type": "markdown",
   "metadata": {},
   "source": [
    "### plot Area values with respect to Price(USD):\n"
   ]
  },
  {
   "cell_type": "code",
   "execution_count": 81,
   "metadata": {},
   "outputs": [
    {
     "data": {
      "image/png": "[encoded data removed]",
      "text/plain": [
       "<Figure size 432x288 with 1 Axes>"
      ]
     },
     "metadata": {
      "needs_background": "light"
     },
     "output_type": "display_data"
    }
   ],
   "source": [
    "plt.scatter(df['Area'], df['Price(USD)'],  color='blue')\n",
    "plt.xlabel(\"Area\")\n",
    "plt.ylabel(\"Price(USD)\")\n",
    "plt.show()"
   ]
  },
  {
   "cell_type": "markdown",
   "metadata": {},
   "source": [
    "### Train data distribution"
   ]
  },
  {
   "cell_type": "code",
   "execution_count": 82,
   "metadata": {},
   "outputs": [
    {
     "data": {
      "image/png": "[encoded data removed]",
      "text/plain": [
       "<Figure size 432x288 with 1 Axes>"
      ]
     },
     "metadata": {
      "needs_background": "light"
     },
     "output_type": "display_data"
    }
   ],
   "source": [
    "plt.scatter(train['Area'], train['Price(USD)'],  color='green')\n",
    "plt.xlabel(\"Area\")\n",
    "plt.ylabel(\"Price(USD)\")\n",
    "plt.show()"
   ]
  },
  {
   "cell_type": "code",
   "execution_count": 83,
   "metadata": {},
   "outputs": [
    {
     "data": {
      "text/plain": [
       "array([[1.00000000e+00, 6.30000000e+01, 3.96900000e+03, 2.50047000e+05,\n",
       "        1.57529610e+07, 9.92436543e+08],\n",
       "       [1.00000000e+00, 6.00000000e+01, 3.60000000e+03, 2.16000000e+05,\n",
       "        1.29600000e+07, 7.77600000e+08],\n",
       "       [1.00000000e+00, 7.90000000e+01, 6.24100000e+03, 4.93039000e+05,\n",
       "        3.89500810e+07, 3.07705640e+09],\n",
       "       ...,\n",
       "       [1.00000000e+00, 8.30000000e+01, 6.88900000e+03, 5.71787000e+05,\n",
       "        4.74583210e+07, 3.93904064e+09],\n",
       "       [1.00000000e+00, 7.50000000e+01, 5.62500000e+03, 4.21875000e+05,\n",
       "        3.16406250e+07, 2.37304688e+09],\n",
       "       [1.00000000e+00, 8.20000000e+01, 6.72400000e+03, 5.51368000e+05,\n",
       "        4.52121760e+07, 3.70739843e+09]])"
      ]
     },
     "execution_count": 83,
     "metadata": {},
     "output_type": "execute_result"
    }
   ],
   "source": [
    "train_x = np.asanyarray(train[['Area']])\n",
    "train_y = np.asanyarray(train[['Price(USD)']])\n",
    "\n",
    "test_x = np.asanyarray(test[['Area']])\n",
    "test_y = np.asanyarray(test[['Price(USD)']])\n",
    "\n",
    "\n",
    "poly = PolynomialFeatures(degree=5)\n",
    "train_x_poly = poly.fit_transform(train_x)\n",
    "train_x_poly"
   ]
  },
  {
   "cell_type": "markdown",
   "metadata": {},
   "source": [
    "### use **LinearRegression()** function"
   ]
  },
  {
   "cell_type": "code",
   "execution_count": 84,
   "metadata": {},
   "outputs": [
    {
     "name": "stdout",
     "output_type": "stream",
     "text": [
      "Coefficients:  [[ 0.00000000e+00 -5.96535233e+03  6.87421193e+01 -1.87317572e-01\n",
      "   2.02986193e-04 -7.74980435e-08]]\n",
      "Intercept:  [200701.37251869]\n"
     ]
    }
   ],
   "source": [
    "clf = linear_model.LinearRegression()\n",
    "train_y_ = clf.fit(train_x_poly, train_y)\n",
    "# The coefficients\n",
    "print ('Coefficients: ', clf.coef_)\n",
    "print ('Intercept: ',clf.intercept_)"
   ]
  },
  {
   "cell_type": "code",
   "execution_count": 85,
   "metadata": {},
   "outputs": [
    {
     "data": {
      "image/png": "[encoded data removed]",
      "text/plain": [
       "<Figure size 432x288 with 1 Axes>"
      ]
     },
     "metadata": {
      "needs_background": "light"
     },
     "output_type": "display_data"
    }
   ],
   "source": [
    "plt.scatter(train.Area, train['Price(USD)'],  color='blue')\n",
    "XX = np.arange(0.0, 1000.0, 0.1)\n",
    "yy = (clf.intercept_[0]+ clf.coef_[0][1]*XX+ clf.coef_[0][2]*np.power(XX, 2)+ clf.coef_[0][3]*np.power(XX, 3)\n",
    "    + clf.coef_[0][4]*np.power(XX, 4)+ clf.coef_[0][5]*np.power(XX, 5))\n",
    "plt.plot(XX, yy, '-r' )\n",
    "plt.xlabel(\"Area\")\n",
    "plt.ylabel(\"Price(USD)\")\n",
    "plt.show()"
   ]
  },
  {
   "cell_type": "markdown",
   "metadata": {},
   "source": [
    "### Evaluation"
   ]
  },
  {
   "cell_type": "code",
   "execution_count": 86,
   "metadata": {},
   "outputs": [
    {
     "name": "stdout",
     "output_type": "stream",
     "text": [
      "Mean absolute error: 75575.61\n",
      "Residual sum of squares (MSE): 21405817571.04\n",
      "R2-score: 0.63\n"
     ]
    }
   ],
   "source": [
    "test_x_poly = poly.fit_transform(test_x)\n",
    "test_y_ = clf.predict(test_x_poly)\n",
    "\n",
    "print(\"Mean absolute error: %.2f\" % np.mean(np.absolute(test_y_ - test_y)))\n",
    "print(\"Residual sum of squares (MSE): %.2f\" % np.mean((test_y_ - test_y) ** 2))\n",
    "print(\"R2-score: %.2f\" % r2_score(test_y,test_y_ ) )"
   ]
  },
  {
   "cell_type": "markdown",
   "metadata": {},
   "source": [
    "# 4- Multiple Linear Regression\n",
    "## With use **LableEncoder()**"
   ]
  },
  {
   "cell_type": "code",
   "execution_count": 87,
   "metadata": {},
   "outputs": [
    {
     "data": {
      "text/html": [
       "<div>\n",
       "<style scoped>\n",
       "    .dataframe tbody tr th:only-of-type {\n",
       "        vertical-align: middle;\n",
       "    }\n",
       "\n",
       "    .dataframe tbody tr th {\n",
       "        vertical-align: top;\n",
       "    }\n",
       "\n",
       "    .dataframe thead th {\n",
       "        text-align: right;\n",
       "    }\n",
       "</style>\n",
       "<table border=\"1\" class=\"dataframe\">\n",
       "  <thead>\n",
       "    <tr style=\"text-align: right;\">\n",
       "      <th></th>\n",
       "      <th>Area</th>\n",
       "      <th>Room</th>\n",
       "      <th>Parking</th>\n",
       "      <th>Warehouse</th>\n",
       "      <th>Elevator</th>\n",
       "      <th>Address</th>\n",
       "      <th>Price</th>\n",
       "      <th>Price(USD)</th>\n",
       "    </tr>\n",
       "  </thead>\n",
       "  <tbody>\n",
       "    <tr>\n",
       "      <th>0</th>\n",
       "      <td>63</td>\n",
       "      <td>1</td>\n",
       "      <td>True</td>\n",
       "      <td>True</td>\n",
       "      <td>True</td>\n",
       "      <td>Shahran</td>\n",
       "      <td>1.850000e+09</td>\n",
       "      <td>61666.67</td>\n",
       "    </tr>\n",
       "    <tr>\n",
       "      <th>1</th>\n",
       "      <td>60</td>\n",
       "      <td>1</td>\n",
       "      <td>True</td>\n",
       "      <td>True</td>\n",
       "      <td>True</td>\n",
       "      <td>Shahran</td>\n",
       "      <td>1.850000e+09</td>\n",
       "      <td>61666.67</td>\n",
       "    </tr>\n",
       "    <tr>\n",
       "      <th>2</th>\n",
       "      <td>79</td>\n",
       "      <td>2</td>\n",
       "      <td>True</td>\n",
       "      <td>True</td>\n",
       "      <td>True</td>\n",
       "      <td>Pardis</td>\n",
       "      <td>5.500000e+08</td>\n",
       "      <td>18333.33</td>\n",
       "    </tr>\n",
       "    <tr>\n",
       "      <th>3</th>\n",
       "      <td>95</td>\n",
       "      <td>2</td>\n",
       "      <td>True</td>\n",
       "      <td>True</td>\n",
       "      <td>True</td>\n",
       "      <td>Shahrake Qods</td>\n",
       "      <td>9.025000e+08</td>\n",
       "      <td>30083.33</td>\n",
       "    </tr>\n",
       "    <tr>\n",
       "      <th>4</th>\n",
       "      <td>123</td>\n",
       "      <td>2</td>\n",
       "      <td>True</td>\n",
       "      <td>True</td>\n",
       "      <td>True</td>\n",
       "      <td>Shahrake Gharb</td>\n",
       "      <td>7.000000e+09</td>\n",
       "      <td>233333.33</td>\n",
       "    </tr>\n",
       "  </tbody>\n",
       "</table>\n",
       "</div>"
      ],
      "text/plain": [
       "  Area  Room  Parking  Warehouse  Elevator         Address         Price  \\\n",
       "0   63     1     True       True      True         Shahran  1.850000e+09   \n",
       "1   60     1     True       True      True         Shahran  1.850000e+09   \n",
       "2   79     2     True       True      True          Pardis  5.500000e+08   \n",
       "3   95     2     True       True      True   Shahrake Qods  9.025000e+08   \n",
       "4  123     2     True       True      True  Shahrake Gharb  7.000000e+09   \n",
       "\n",
       "   Price(USD)  \n",
       "0    61666.67  \n",
       "1    61666.67  \n",
       "2    18333.33  \n",
       "3    30083.33  \n",
       "4   233333.33  "
      ]
     },
     "execution_count": 87,
     "metadata": {},
     "output_type": "execute_result"
    }
   ],
   "source": [
    "df = pd.read_csv('housePrice.csv')\n",
    "df.head()"
   ]
  },
  {
   "cell_type": "code",
   "execution_count": 88,
   "metadata": {},
   "outputs": [],
   "source": [
    "df = df.dropna()"
   ]
  },
  {
   "cell_type": "code",
   "execution_count": 89,
   "metadata": {},
   "outputs": [],
   "source": [
    "df['Area'] = df['Area'].str.replace(',', '')\n",
    "df['Area'] = np.int64(df['Area'])\n",
    "df = df[df['Area'] < 1000]\n"
   ]
  },
  {
   "cell_type": "code",
   "execution_count": 90,
   "metadata": {},
   "outputs": [],
   "source": [
    "df['Parking'] = df['Parking'].astype(int)\n",
    "df['Warehouse'] = df['Warehouse'].astype(int)\n",
    "df['Elevator'] = df['Elevator'].astype(int)\n"
   ]
  },
  {
   "cell_type": "code",
   "execution_count": 91,
   "metadata": {},
   "outputs": [
    {
     "data": {
      "text/plain": [
       "array([156, 117, 152, 150, 106,  13, 183, 100, 135, 188,  71, 120, 154,\n",
       "        99, 179,  12, 163, 141, 190,  52, 181, 147,  61, 128,   1, 111,\n",
       "        50, 115, 122, 125,  14, 113, 127,  26,  40, 114, 142,  21, 157,\n",
       "       108,  35, 164, 134, 184,   4,  93,  39, 138,  27,  23,  74,  88,\n",
       "       158,  51,  81,  76, 124, 110,  19,  22, 119,  24,  69,  45,  62,\n",
       "       146, 118,  29,  57,  77,  60,  68,  65,  36,  31, 132, 189, 126,\n",
       "       105, 176, 123,  10,  43,  42,   2,  63,  89, 112, 166,   0,  85,\n",
       "        67, 116,  87,  91, 162,  78, 160,  79, 107,  41,  86,   6, 161,\n",
       "        84,  18, 191,  11,  37,  44,  97, 131,  75,  90, 145, 185,  96,\n",
       "       101, 172,  28,  49,  48, 155,   7, 170, 102, 187, 109, 180,  64,\n",
       "       104,  56, 167,  20, 148,  15, 174,  92, 149,  34, 177, 169,  32,\n",
       "        47,  17, 137, 136, 151, 182,   5, 140, 121,  46,  72, 129,  54,\n",
       "        59,  94, 165,   3,  38,  70, 168,  80, 133, 130,  58, 171,  98,\n",
       "        55,  16, 143, 153, 139,  82,  66,  30,  83,  25,  95, 178, 159,\n",
       "       173,  33,   9,   8,  53, 175, 144, 103,  73, 186])"
      ]
     },
     "execution_count": 91,
     "metadata": {},
     "output_type": "execute_result"
    }
   ],
   "source": [
    "label_encoder = LabelEncoder()\n",
    "\n",
    "df['Address'] = label_encoder.fit_transform(df['Address'])\n",
    "df['Address'].unique()"
   ]
  },
  {
   "cell_type": "code",
   "execution_count": 92,
   "metadata": {},
   "outputs": [
    {
     "data": {
      "text/html": [
       "<div>\n",
       "<style scoped>\n",
       "    .dataframe tbody tr th:only-of-type {\n",
       "        vertical-align: middle;\n",
       "    }\n",
       "\n",
       "    .dataframe tbody tr th {\n",
       "        vertical-align: top;\n",
       "    }\n",
       "\n",
       "    .dataframe thead th {\n",
       "        text-align: right;\n",
       "    }\n",
       "</style>\n",
       "<table border=\"1\" class=\"dataframe\">\n",
       "  <thead>\n",
       "    <tr style=\"text-align: right;\">\n",
       "      <th></th>\n",
       "      <th>Area</th>\n",
       "      <th>Room</th>\n",
       "      <th>Parking</th>\n",
       "      <th>Warehouse</th>\n",
       "      <th>Elevator</th>\n",
       "      <th>Address</th>\n",
       "      <th>Price</th>\n",
       "      <th>Price(USD)</th>\n",
       "    </tr>\n",
       "  </thead>\n",
       "  <tbody>\n",
       "    <tr>\n",
       "      <th>0</th>\n",
       "      <td>63</td>\n",
       "      <td>1</td>\n",
       "      <td>1</td>\n",
       "      <td>1</td>\n",
       "      <td>1</td>\n",
       "      <td>156</td>\n",
       "      <td>1.850000e+09</td>\n",
       "      <td>61666.67</td>\n",
       "    </tr>\n",
       "    <tr>\n",
       "      <th>1</th>\n",
       "      <td>60</td>\n",
       "      <td>1</td>\n",
       "      <td>1</td>\n",
       "      <td>1</td>\n",
       "      <td>1</td>\n",
       "      <td>156</td>\n",
       "      <td>1.850000e+09</td>\n",
       "      <td>61666.67</td>\n",
       "    </tr>\n",
       "    <tr>\n",
       "      <th>2</th>\n",
       "      <td>79</td>\n",
       "      <td>2</td>\n",
       "      <td>1</td>\n",
       "      <td>1</td>\n",
       "      <td>1</td>\n",
       "      <td>117</td>\n",
       "      <td>5.500000e+08</td>\n",
       "      <td>18333.33</td>\n",
       "    </tr>\n",
       "    <tr>\n",
       "      <th>3</th>\n",
       "      <td>95</td>\n",
       "      <td>2</td>\n",
       "      <td>1</td>\n",
       "      <td>1</td>\n",
       "      <td>1</td>\n",
       "      <td>152</td>\n",
       "      <td>9.025000e+08</td>\n",
       "      <td>30083.33</td>\n",
       "    </tr>\n",
       "    <tr>\n",
       "      <th>4</th>\n",
       "      <td>123</td>\n",
       "      <td>2</td>\n",
       "      <td>1</td>\n",
       "      <td>1</td>\n",
       "      <td>1</td>\n",
       "      <td>150</td>\n",
       "      <td>7.000000e+09</td>\n",
       "      <td>233333.33</td>\n",
       "    </tr>\n",
       "  </tbody>\n",
       "</table>\n",
       "</div>"
      ],
      "text/plain": [
       "   Area  Room  Parking  Warehouse  Elevator  Address         Price  Price(USD)\n",
       "0    63     1        1          1         1      156  1.850000e+09    61666.67\n",
       "1    60     1        1          1         1      156  1.850000e+09    61666.67\n",
       "2    79     2        1          1         1      117  5.500000e+08    18333.33\n",
       "3    95     2        1          1         1      152  9.025000e+08    30083.33\n",
       "4   123     2        1          1         1      150  7.000000e+09   233333.33"
      ]
     },
     "execution_count": 92,
     "metadata": {},
     "output_type": "execute_result"
    }
   ],
   "source": [
    "df.head()"
   ]
  },
  {
   "cell_type": "code",
   "execution_count": 93,
   "metadata": {},
   "outputs": [
    {
     "data": {
      "text/plain": [
       "Area            int64\n",
       "Room            int64\n",
       "Parking         int32\n",
       "Warehouse       int32\n",
       "Elevator        int32\n",
       "Address         int32\n",
       "Price         float64\n",
       "Price(USD)    float64\n",
       "dtype: object"
      ]
     },
     "execution_count": 93,
     "metadata": {},
     "output_type": "execute_result"
    }
   ],
   "source": [
    "df.dtypes"
   ]
  },
  {
   "cell_type": "code",
   "execution_count": 94,
   "metadata": {},
   "outputs": [
    {
     "data": {
      "image/png": "[encoded data removed]",
      "text/plain": [
       "<Figure size 432x288 with 1 Axes>"
      ]
     },
     "metadata": {
      "needs_background": "light"
     },
     "output_type": "display_data"
    }
   ],
   "source": [
    "plt.scatter(df['Area'], df['Price(USD)'],  color='blue')\n",
    "plt.xlabel(\"Area\")\n",
    "plt.ylabel(\"Price(USD)\")\n",
    "plt.show()"
   ]
  },
  {
   "cell_type": "code",
   "execution_count": 95,
   "metadata": {},
   "outputs": [
    {
     "data": {
      "text/html": [
       "<div>\n",
       "<style scoped>\n",
       "    .dataframe tbody tr th:only-of-type {\n",
       "        vertical-align: middle;\n",
       "    }\n",
       "\n",
       "    .dataframe tbody tr th {\n",
       "        vertical-align: top;\n",
       "    }\n",
       "\n",
       "    .dataframe thead th {\n",
       "        text-align: right;\n",
       "    }\n",
       "</style>\n",
       "<table border=\"1\" class=\"dataframe\">\n",
       "  <thead>\n",
       "    <tr style=\"text-align: right;\">\n",
       "      <th></th>\n",
       "      <th>Area</th>\n",
       "      <th>Room</th>\n",
       "      <th>Parking</th>\n",
       "      <th>Warehouse</th>\n",
       "      <th>Elevator</th>\n",
       "      <th>Address</th>\n",
       "      <th>Price(USD)</th>\n",
       "    </tr>\n",
       "  </thead>\n",
       "  <tbody>\n",
       "    <tr>\n",
       "      <th>0</th>\n",
       "      <td>63</td>\n",
       "      <td>1</td>\n",
       "      <td>1</td>\n",
       "      <td>1</td>\n",
       "      <td>1</td>\n",
       "      <td>156</td>\n",
       "      <td>61666.67</td>\n",
       "    </tr>\n",
       "    <tr>\n",
       "      <th>1</th>\n",
       "      <td>60</td>\n",
       "      <td>1</td>\n",
       "      <td>1</td>\n",
       "      <td>1</td>\n",
       "      <td>1</td>\n",
       "      <td>156</td>\n",
       "      <td>61666.67</td>\n",
       "    </tr>\n",
       "    <tr>\n",
       "      <th>2</th>\n",
       "      <td>79</td>\n",
       "      <td>2</td>\n",
       "      <td>1</td>\n",
       "      <td>1</td>\n",
       "      <td>1</td>\n",
       "      <td>117</td>\n",
       "      <td>18333.33</td>\n",
       "    </tr>\n",
       "    <tr>\n",
       "      <th>3</th>\n",
       "      <td>95</td>\n",
       "      <td>2</td>\n",
       "      <td>1</td>\n",
       "      <td>1</td>\n",
       "      <td>1</td>\n",
       "      <td>152</td>\n",
       "      <td>30083.33</td>\n",
       "    </tr>\n",
       "    <tr>\n",
       "      <th>4</th>\n",
       "      <td>123</td>\n",
       "      <td>2</td>\n",
       "      <td>1</td>\n",
       "      <td>1</td>\n",
       "      <td>1</td>\n",
       "      <td>150</td>\n",
       "      <td>233333.33</td>\n",
       "    </tr>\n",
       "  </tbody>\n",
       "</table>\n",
       "</div>"
      ],
      "text/plain": [
       "   Area  Room  Parking  Warehouse  Elevator  Address  Price(USD)\n",
       "0    63     1        1          1         1      156    61666.67\n",
       "1    60     1        1          1         1      156    61666.67\n",
       "2    79     2        1          1         1      117    18333.33\n",
       "3    95     2        1          1         1      152    30083.33\n",
       "4   123     2        1          1         1      150   233333.33"
      ]
     },
     "execution_count": 95,
     "metadata": {},
     "output_type": "execute_result"
    }
   ],
   "source": [
    "cdf = df[['Area', 'Room', 'Parking', 'Warehouse', 'Elevator', 'Address', 'Price(USD)']]\n",
    "cdf.head()"
   ]
  },
  {
   "cell_type": "code",
   "execution_count": 96,
   "metadata": {},
   "outputs": [],
   "source": [
    "msk = np.random.rand(len(df)) < 0.8\n",
    "train = cdf[msk]\n",
    "test = cdf[~msk]"
   ]
  },
  {
   "cell_type": "code",
   "execution_count": 97,
   "metadata": {},
   "outputs": [
    {
     "data": {
      "image/png": "[encoded data removed]",
      "text/plain": [
       "<Figure size 432x288 with 1 Axes>"
      ]
     },
     "metadata": {
      "needs_background": "light"
     },
     "output_type": "display_data"
    }
   ],
   "source": [
    "plt.scatter(train['Area'], train['Price(USD)'],  color='green')\n",
    "plt.xlabel(\"Area\")\n",
    "plt.ylabel(\"Price(USD)\")\n",
    "plt.show()"
   ]
  },
  {
   "cell_type": "code",
   "execution_count": 98,
   "metadata": {},
   "outputs": [
    {
     "name": "stdout",
     "output_type": "stream",
     "text": [
      "Coefficients:  [[ 2.13454641e+03  6.64124651e+04 -1.89901152e+03  4.71938263e+04\n",
      "   3.60246698e+04  4.13687311e+01]]\n",
      "Intercepts: [-262153.79170903]\n"
     ]
    }
   ],
   "source": [
    "regr = linear_model.LinearRegression()\n",
    "x = np.asanyarray(train[['Area', 'Room', 'Parking', 'Warehouse', 'Elevator', 'Address']])\n",
    "y = np.asanyarray(train[['Price(USD)']])\n",
    "regr.fit (x, y)\n",
    "\n",
    "print ('Coefficients: ', regr.coef_)\n",
    "print(f'Intercepts: {regr.intercept_}')"
   ]
  },
  {
   "cell_type": "code",
   "execution_count": 99,
   "metadata": {},
   "outputs": [
    {
     "name": "stdout",
     "output_type": "stream",
     "text": [
      "Residual sum of squares: 31540361590.58\n",
      "Variance score: 0.61\n"
     ]
    },
    {
     "name": "stderr",
     "output_type": "stream",
     "text": [
      "c:\\Users\\sinad\\AppData\\Local\\Programs\\Python\\Python310\\lib\\site-packages\\sklearn\\base.py:443: UserWarning: X has feature names, but LinearRegression was fitted without feature names\n",
      "  warnings.warn(\n"
     ]
    }
   ],
   "source": [
    "y_hat= regr.predict(test[['Area', 'Room', 'Parking', 'Warehouse', 'Elevator', 'Address']])\n",
    "x = np.asanyarray(test[['Area', 'Room', 'Parking', 'Warehouse', 'Elevator', 'Address']])\n",
    "y = np.asanyarray(test[['Price(USD)']])\n",
    "print(\"Residual sum of squares: %.2f\"\n",
    "      % np.mean((y_hat - y) ** 2))\n",
    "\n",
    "\n",
    "print('Variance score: %.2f' % regr.score(x, y))"
   ]
  }
 ],
 "metadata": {
  "kernelspec": {
   "display_name": "Python 3.10.4 64-bit",
   "language": "python",
   "name": "python3"
  },
  "language_info": {
   "codemirror_mode": {
    "name": "ipython",
    "version": 3
   },
   "file_extension": ".py",
   "mimetype": "text/x-python",
   "name": "python",
   "nbconvert_exporter": "python",
   "pygments_lexer": "ipython3",
   "version": "3.10.4"
  },
  "orig_nbformat": 4,
  "vscode": {
   "interpreter": {
    "hash": "9a04dbfbe215b13b854bddd6b429b2c7cb84b0bc1630f2d25a24cb76a9bcf55a"
   }
  }
 },
 "nbformat": 4,
 "nbformat_minor": 2
}
